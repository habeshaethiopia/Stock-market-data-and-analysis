{
 "cells": [
  {
   "cell_type": "code",
   "execution_count": 3,
   "metadata": {
    "vscode": {
     "languageId": "plaintext"
    }
   },
   "outputs": [
    {
     "name": "stdout",
     "output_type": "stream",
     "text": [
      "Row count:  10998\n"
     ]
    }
   ],
   "source": [
    "import pandas as pd\n",
    "import talib\n",
    "import matplotlib.pyplot as plt\n",
    "import seaborn as sns\n",
    "import sys,os\n",
    "sys.path.append(os.path.abspath(os.path.join(\"..\", \"scripts\")))\n",
    "from plot import (\n",
    "    plot_histogram, \n",
    "    plot_scatter, \n",
    "    plot_time_series, \n",
    "    plot_boxplot,\n",
    "    plot_correlation_matrix\n",
    ")\n",
    "\n",
    "# Now you can import the functions\n",
    "from utils import (\n",
    "    read_csv_file,\n",
    "    calculate_summary_statistics,\n",
    "    calculate_correlation_matrix,\n",
    "    detect_outliers,\n",
    "    convert_to_datetime,\n",
    "    calculate_daily_returns,\n",
    "    calculate_moving_average,\n",
    ")\n",
    "\n",
    "\n",
    "\n",
    "# Load the CSV file into a DataFrame\n",
    "data_info = read_csv_file(\"Data/yfinance_data/AAPL_historical_data.csv\")\n",
    "df = data_info[\"data\"]\n",
    "print(\"Row count: \",data_info[\"row_count\"])"
   ]
  },
  {
   "cell_type": "code",
   "execution_count": 4,
   "metadata": {
    "vscode": {
     "languageId": "plaintext"
    }
   },
   "outputs": [
    {
     "name": "stdout",
     "output_type": "stream",
     "text": [
      "             Date        Open        High         Low       Close   Adj Close  \\\n",
      "10993  2024-07-24  224.000000  224.800003  217.130005  218.539993  218.287323   \n",
      "10994  2024-07-25  218.929993  220.850006  214.619995  217.490005  217.238556   \n",
      "10995  2024-07-26  218.699997  219.490005  216.009995  217.960007  217.708008   \n",
      "10996  2024-07-29  216.960007  219.300003  215.750000  218.240005  217.987686   \n",
      "10997  2024-07-30  219.190002  220.330002  216.119995  218.800003  218.547043   \n",
      "\n",
      "         Volume  Dividends  Stock Splits      SMA_20      SMA_50        RSI  \\\n",
      "10993  61777600        0.0           0.0  224.228500  208.474199  48.687742   \n",
      "10994  51391200        0.0           0.0  224.440500  209.098399  47.386437   \n",
      "10995  41601300        0.0           0.0  224.633500  209.709000  48.055700   \n",
      "10996  36311800        0.0           0.0  225.014500  210.279400  48.476184   \n",
      "10997  41643800        0.0           0.0  225.117001  210.858600  49.359115   \n",
      "\n",
      "           MACD  MACD_Signal  MACD_Hist  \n",
      "10993  4.662717     6.678882  -2.016164  \n",
      "10994  3.748082     6.092722  -2.344640  \n",
      "10995  3.026267     5.479431  -2.453164  \n",
      "10996  2.448591     4.873263  -2.424672  \n",
      "10997  2.012764     4.301163  -2.288399  \n"
     ]
    }
   ],
   "source": [
    "# Calculate Moving Averages\n",
    "df['SMA_20'] = talib.SMA(df['Close'], timeperiod=20)\n",
    "df['SMA_50'] = talib.SMA(df['Close'], timeperiod=50)\n",
    "\n",
    "# Calculate Relative Strength Index (RSI)\n",
    "df['RSI'] = talib.RSI(df['Close'], timeperiod=14)\n",
    "\n",
    "# Calculate Moving Average Convergence Divergence (MACD)\n",
    "df['MACD'], df['MACD_Signal'], df['MACD_Hist'] = talib.MACD(df['Close'],\n",
    "                                                            fastperiod=12, \n",
    "                                                            slowperiod=26, \n",
    "                                                            signalperiod=9)\n",
    "\n",
    "# Display the DataFrame with indicators\n",
    "print(df.tail())"
   ]
  },
  {
   "cell_type": "code",
   "execution_count": 6,
   "metadata": {},
   "outputs": [
    {
     "name": "stdout",
     "output_type": "stream",
     "text": [
      "Daily Returns:\n",
      "0         NaN\n",
      "1   -0.052171\n",
      "2   -0.073398\n",
      "3    0.024751\n",
      "4    0.028992\n",
      "Name: Daily_Return, dtype: float64\n",
      "Annualized Volatility: 0.4428\n"
     ]
    }
   ],
   "source": [
    "import numpy as np\n",
    "\n",
    "# Calculate daily returns\n",
    "df['Daily_Return'] = df['Close'].pct_change()\n",
    "\n",
    "# Calculate annualized volatility (standard deviation of returns)\n",
    "volatility = np.std(df['Daily_Return'].dropna()) * np.sqrt(252)\n",
    "\n",
    "print(f\"Daily Returns:\\n{df['Daily_Return'].head()}\")\n",
    "print(f\"Annualized Volatility: {volatility:.4f}\")\n"
   ]
  },
  {
   "cell_type": "code",
   "execution_count": null,
   "metadata": {},
   "outputs": [],
   "source": []
  }
 ],
 "metadata": {
  "kernelspec": {
   "display_name": "Python 3 (ipykernel)",
   "language": "python",
   "name": "python3"
  },
  "language_info": {
   "codemirror_mode": {
    "name": "ipython",
    "version": 3
   },
   "file_extension": ".py",
   "mimetype": "text/x-python",
   "name": "python",
   "nbconvert_exporter": "python",
   "pygments_lexer": "ipython3",
   "version": "3.12.3"
  }
 },
 "nbformat": 4,
 "nbformat_minor": 4
}
