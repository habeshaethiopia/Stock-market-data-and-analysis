{
 "cells": [
  {
   "cell_type": "code",
   "execution_count": 1,
   "id": "6f2b3e09-59ff-47a8-8ac2-55f538447c9a",
   "metadata": {},
   "outputs": [],
   "source": [
    "import pandas as pd\n",
    "import nltk\n",
    "from nltk.sentiment.vader import SentimentIntensityAnalyzer"
   ]
  },
  {
   "cell_type": "code",
   "execution_count": 3,
   "id": "3ff82c54-9bc2-4e8c-8e27-0d3b6ba1cea2",
   "metadata": {},
   "outputs": [
    {
     "name": "stderr",
     "output_type": "stream",
     "text": [
      "[nltk_data] Downloading package vader_lexicon to\n",
      "[nltk_data]     /home/adane/nltk_data...\n",
      "[nltk_data]   Package vader_lexicon is already up-to-date!\n"
     ]
    },
    {
     "name": "stdout",
     "output_type": "stream",
     "text": [
      "         Unnamed: 0                                           headline  \\\n",
      "0                 0            Stocks That Hit 52-Week Highs On Friday   \n",
      "1                 1         Stocks That Hit 52-Week Highs On Wednesday   \n",
      "2                 2                      71 Biggest Movers From Friday   \n",
      "3                 3       46 Stocks Moving In Friday's Mid-Day Session   \n",
      "4                 4  B of A Securities Maintains Neutral on Agilent...   \n",
      "...             ...                                                ...   \n",
      "1407323     1413844             Top Narrow Based Indexes For August 29   \n",
      "1407324     1413845  Recap: Wednesday's Top Percentage Gainers and ...   \n",
      "1407325     1413846  UPDATE: Oppenheimer Color on China Zenix Auto ...   \n",
      "1407326     1413847  Oppenheimer Initiates China Zenix At Outperfor...   \n",
      "1407327     1413848  China Zenix Auto International Opens For Tradi...   \n",
      "\n",
      "                                                       url          publisher  \\\n",
      "0        https://www.benzinga.com/news/20/06/16190091/s...  Benzinga Insights   \n",
      "1        https://www.benzinga.com/news/20/06/16170189/s...  Benzinga Insights   \n",
      "2        https://www.benzinga.com/news/20/05/16103463/7...         Lisa Levin   \n",
      "3        https://www.benzinga.com/news/20/05/16095921/4...         Lisa Levin   \n",
      "4        https://www.benzinga.com/news/20/05/16095304/b...         Vick Meyer   \n",
      "...                                                    ...                ...   \n",
      "1407323  https://www.benzinga.com/news/11/08/1888782/to...      Monica Gerson   \n",
      "1407324  https://www.benzinga.com/news/earnings/11/06/1...       Benjamin Lee   \n",
      "1407325  https://www.benzinga.com/analyst-ratings/analy...     BenzingaStaffL   \n",
      "1407326  https://www.benzinga.com/analyst-ratings/price...          Joe Young   \n",
      "1407327  https://www.benzinga.com/news/ipos/11/05/10789...      Allie Wickman   \n",
      "\n",
      "                              date stock  sentiment_score sentiment  \n",
      "0        2020-06-05 10:30:54-04:00     A           0.0000   Neutral  \n",
      "1        2020-06-03 10:45:20-04:00     A           0.0000   Neutral  \n",
      "2        2020-05-26 04:30:07-04:00     A           0.0000   Neutral  \n",
      "3        2020-05-22 12:45:06-04:00     A           0.0000   Neutral  \n",
      "4        2020-05-22 11:38:59-04:00     A           0.2960  Positive  \n",
      "...                            ...   ...              ...       ...  \n",
      "1407323        2011-08-29 00:00:00    ZX           0.2023  Positive  \n",
      "1407324        2011-06-22 00:00:00    ZX          -0.3818  Negative  \n",
      "1407325        2011-06-21 00:00:00    ZX           0.0000   Neutral  \n",
      "1407326        2011-06-21 00:00:00    ZX           0.0000   Neutral  \n",
      "1407327        2011-05-12 00:00:00    ZX           0.0000   Neutral  \n",
      "\n",
      "[1407328 rows x 8 columns]\n"
     ]
    }
   ],
   "source": [
    "# Download required NLTK data (only needs to be done once)\n",
    "nltk.download('vader_lexicon')\n",
    "\n",
    "# Assuming your CSV file is named 'your_file.csv' and has a column named 'text'\n",
    "# Replace 'your_file.csv' with your actual file name and 'text' with the actual column name\n",
    "try:\n",
    "    df = pd.read_csv('Data/raw_analyst_ratings.csv')\n",
    "except FileNotFoundError:\n",
    "    print(\"Error: 'your_file.csv' not found. Please upload the file or provide the correct path.\")\n",
    "    exit()\n",
    "\n",
    "# Initialize the VADER sentiment analyzer\n",
    "analyzer = SentimentIntensityAnalyzer()\n",
    "\n",
    "def analyze_sentiment(text):\n",
    "    scores = analyzer.polarity_scores(text)\n",
    "    return scores['compound']  # Return the compound score\n",
    "\n",
    "# Apply the sentiment analysis function to the 'text' column\n",
    "df['sentiment_score'] = df['headline'].apply(analyze_sentiment)\n",
    "\n",
    "\n",
    "# Classify sentiment based on the compound score\n",
    "def classify_sentiment(score):\n",
    "    if score >= 0.05:\n",
    "        return 'Positive'\n",
    "    elif score <= -0.05:\n",
    "        return 'Negative'\n",
    "    else:\n",
    "        return 'Neutral'\n",
    "\n",
    "\n",
    "df['sentiment'] = df['sentiment_score'].apply(classify_sentiment)\n",
    "\n",
    "print(df)"
   ]
  },
  {
   "cell_type": "code",
   "execution_count": 7,
   "id": "3160cef3-4fe0-474a-b3ec-4281fdda280e",
   "metadata": {},
   "outputs": [],
   "source": [
    "# Import necessary libraries\n",
    "import pandas as pd\n",
    "import matplotlib.pyplot as plt\n",
    "import sys\n",
    "import os\n"
   ]
  },
  {
   "cell_type": "code",
   "execution_count": 4,
   "id": "b1fa857a-10d7-49a5-b8ae-44b7883ab0e1",
   "metadata": {},
   "outputs": [
    {
     "name": "stdout",
     "output_type": "stream",
     "text": [
      "Row count:  1407328\n"
     ]
    }
   ],
   "source": []
  },
  {
   "cell_type": "code",
   "execution_count": null,
   "id": "f81a88f6-fe0a-4a47-98b5-79dd778d74dd",
   "metadata": {},
   "outputs": [],
   "source": []
  },
  {
   "cell_type": "markdown",
   "id": "109e351f-5e67-49f9-bd02-5f1462bc7306",
   "metadata": {},
   "source": [
    "# EDA Techniques"
   ]
  },
  {
   "cell_type": "code",
   "execution_count": 8,
   "id": "845e037a-ff54-4272-af7b-370fdacb03f6",
   "metadata": {},
   "outputs": [
    {
     "name": "stdout",
     "output_type": "stream",
     "text": [
      "Sentiment Distribution:\n"
     ]
    },
    {
     "data": {
      "text/plain": [
       "sentiment\n",
       "Neutral     741194\n",
       "Positive    441858\n",
       "Negative    224276\n",
       "Name: count, dtype: int64"
      ]
     },
     "metadata": {},
     "output_type": "display_data"
    }
   ],
   "source": [
    "# 1. Sentiment Distribution\n",
    "print(\"Sentiment Distribution:\")\n",
    "sentiment_counts = df['sentiment'].value_counts()\n",
    "display(sentiment_counts)"
   ]
  },
  {
   "cell_type": "code",
   "execution_count": 9,
   "id": "dbd6761c-8ed6-4575-a191-67d12a79ae28",
   "metadata": {},
   "outputs": [
    {
     "data": {
      "image/png": "[encoded data removed]",
      "text/plain": [
       "<Figure size 800x500 with 1 Axes>"
      ]
     },
     "metadata": {},
     "output_type": "display_data"
    }
   ],
   "source": [
    "# Plot sentiment distribution\n",
    "plt.figure(figsize=(8, 5))\n",
    "sentiment_counts.plot(kind='bar', color=['green', 'red', 'blue'])\n",
    "plt.title('Sentiment Distribution')\n",
    "plt.xlabel('Sentiment')\n",
    "plt.ylabel('Count')\n",
    "plt.show()"
   ]
  },
  {
   "cell_type": "code",
   "execution_count": 12,
   "id": "1c3b0e27-f699-4b8c-9dff-d923a0aaefe3",
   "metadata": {},
   "outputs": [
    {
     "name": "stdout",
     "output_type": "stream",
     "text": [
      "Average sentiment score by publisher:\n"
     ]
    },
    {
     "data": {
      "text/plain": [
       "publisher\n",
       "47ertrends                    0.000000\n",
       "AARP                          0.018429\n",
       "ABNNewswire                   0.038731\n",
       "Aakin                         0.136000\n",
       "Aaron Jackson.Ed              0.322244\n",
       "                                ...   \n",
       "vic@forextraininggroup.com    0.000000\n",
       "vishwanath@benzinga.com      -0.049120\n",
       "vivek.proactive@gmail.com    -0.045008\n",
       "wallstreet1928               -0.018150\n",
       "webmaster                     0.034903\n",
       "Name: sentiment_score, Length: 1034, dtype: float64"
      ]
     },
     "metadata": {},
     "output_type": "display_data"
    },
    {
     "data": {
      "text/plain": [
       "stock\n",
       "A       0.070783\n",
       "AA      0.042446\n",
       "AAC     0.029539\n",
       "AADR    0.084750\n",
       "AAL     0.062757\n",
       "          ...   \n",
       "ZTR     0.037974\n",
       "ZTS     0.078401\n",
       "ZU      0.077445\n",
       "ZUMZ    0.036719\n",
       "ZX      0.008416\n",
       "Name: sentiment_score, Length: 6204, dtype: float64"
      ]
     },
     "metadata": {},
     "output_type": "display_data"
    }
   ],
   "source": [
    "# 2. Average Sentiment Score by Publisher\n",
    "print(\"Average sentiment score by publisher:\")\n",
    "average_sentiment_by_publisher = df.groupby('publisher')['sentiment_score'].mean()\n",
    "display(average_sentiment_by_publisher)\n",
    "average_sentiment_by_stock = df.groupby('stock')['sentiment_score'].mean()\n",
    "display(average_sentiment_by_stock)"
   ]
  },
  {
   "cell_type": "code",
   "execution_count": null,
   "id": "cbeb42be-b61d-461e-a252-eea4efb22c6f",
   "metadata": {},
   "outputs": [],
   "source": [
    "# Plot average sentiment by publisher\n",
    "average_sentiment_by_publisher.sort_values().plot(kind='barh', figsize=(10, 6), color='purple')\n",
    "plt.title('Average Sentiment Score by Publisher')\n",
    "plt.xlabel('Sentiment Score')\n",
    "plt.ylabel('Publisher')\n",
    "plt.show()"
   ]
  },
  {
   "cell_type": "code",
   "execution_count": null,
   "id": "85a94817-645f-43f6-864f-7ad9bc575d02",
   "metadata": {},
   "outputs": [],
   "source": [
    "average_sentiment_by_stock.sort_values().plot(kind='barh', figsize=(10, 6), color='purple')\n",
    "plt.title('Average Sentiment Score by Publisher')\n",
    "plt.xlabel('Sentiment Score')\n",
    "plt.ylabel('stock')\n",
    "plt.show()"
   ]
  },
  {
   "cell_type": "code",
   "execution_count": null,
   "id": "9e2dd043-7eff-4ddb-b022-8330af80208e",
   "metadata": {},
   "outputs": [],
   "source": [
    "# 3. Sentiment Over Time (if dates are present)\n",
    "if 'date' in df.columns:\n",
    "    print(\"Sentiment Score Over Time:\")\n",
    "    df['date'] = pd.to_datetime(df['date'])  # Ensure date is in datetime format\n",
    "    df.set_index('date', inplace=True)\n",
    "    sentiment_over_time = df.resample('M')['sentiment_score'].mean()\n",
    "    display(sentiment_over_time)\n",
    "\n",
    "    # Plot sentiment over time\n",
    "    plt.figure(figsize=(12, 6))\n",
    "    sentiment_over_time.plot(color='orange')\n",
    "    plt.title('Average Sentiment Score Over Time')\n",
    "    plt.xlabel('Date')\n",
    "    plt.ylabel('Sentiment Score')\n",
    "    plt.show()"
   ]
  }
 ],
 "metadata": {
  "kernelspec": {
   "display_name": "Python 3 (ipykernel)",
   "language": "python",
   "name": "python3"
  },
  "language_info": {
   "codemirror_mode": {
    "name": "ipython",
    "version": 3
   },
   "file_extension": ".py",
   "mimetype": "text/x-python",
   "name": "python",
   "nbconvert_exporter": "python",
   "pygments_lexer": "ipython3",
   "version": "3.12.3"
  }
 },
 "nbformat": 4,
 "nbformat_minor": 5
}
