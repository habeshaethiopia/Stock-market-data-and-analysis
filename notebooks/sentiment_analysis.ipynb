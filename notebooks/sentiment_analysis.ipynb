{
 "cells": [
  {
   "cell_type": "code",
   "execution_count": 1,
   "id": "6f2b3e09-59ff-47a8-8ac2-55f538447c9a",
   "metadata": {},
   "outputs": [],
   "source": [
    "import pandas as pd\n",
    "import nltk\n",
    "from nltk.sentiment.vader import SentimentIntensityAnalyzer"
   ]
  },
  {
   "cell_type": "code",
   "execution_count": 3,
   "id": "3ff82c54-9bc2-4e8c-8e27-0d3b6ba1cea2",
   "metadata": {},
   "outputs": [
    {
     "name": "stderr",
     "output_type": "stream",
     "text": [
      "[nltk_data] Downloading package vader_lexicon to\n",
      "[nltk_data]     /home/adane/nltk_data...\n",
      "[nltk_data]   Package vader_lexicon is already up-to-date!\n"
     ]
    },
    {
     "name": "stdout",
     "output_type": "stream",
     "text": [
      "         Unnamed: 0                                           headline  \\\n",
      "0                 0            Stocks That Hit 52-Week Highs On Friday   \n",
      "1                 1         Stocks That Hit 52-Week Highs On Wednesday   \n",
      "2                 2                      71 Biggest Movers From Friday   \n",
      "3                 3       46 Stocks Moving In Friday's Mid-Day Session   \n",
      "4                 4  B of A Securities Maintains Neutral on Agilent...   \n",
      "...             ...                                                ...   \n",
      "1407323     1413844             Top Narrow Based Indexes For August 29   \n",
      "1407324     1413845  Recap: Wednesday's Top Percentage Gainers and ...   \n",
      "1407325     1413846  UPDATE: Oppenheimer Color on China Zenix Auto ...   \n",
      "1407326     1413847  Oppenheimer Initiates China Zenix At Outperfor...   \n",
      "1407327     1413848  China Zenix Auto International Opens For Tradi...   \n",
      "\n",
      "                                                       url          publisher  \\\n",
      "0        https://www.benzinga.com/news/20/06/16190091/s...  Benzinga Insights   \n",
      "1        https://www.benzinga.com/news/20/06/16170189/s...  Benzinga Insights   \n",
      "2        https://www.benzinga.com/news/20/05/16103463/7...         Lisa Levin   \n",
      "3        https://www.benzinga.com/news/20/05/16095921/4...         Lisa Levin   \n",
      "4        https://www.benzinga.com/news/20/05/16095304/b...         Vick Meyer   \n",
      "...                                                    ...                ...   \n",
      "1407323  https://www.benzinga.com/news/11/08/1888782/to...      Monica Gerson   \n",
      "1407324  https://www.benzinga.com/news/earnings/11/06/1...       Benjamin Lee   \n",
      "1407325  https://www.benzinga.com/analyst-ratings/analy...     BenzingaStaffL   \n",
      "1407326  https://www.benzinga.com/analyst-ratings/price...          Joe Young   \n",
      "1407327  https://www.benzinga.com/news/ipos/11/05/10789...      Allie Wickman   \n",
      "\n",
      "                              date stock  sentiment_score sentiment  \n",
      "0        2020-06-05 10:30:54-04:00     A           0.0000   Neutral  \n",
      "1        2020-06-03 10:45:20-04:00     A           0.0000   Neutral  \n",
      "2        2020-05-26 04:30:07-04:00     A           0.0000   Neutral  \n",
      "3        2020-05-22 12:45:06-04:00     A           0.0000   Neutral  \n",
      "4        2020-05-22 11:38:59-04:00     A           0.2960  Positive  \n",
      "...                            ...   ...              ...       ...  \n",
      "1407323        2011-08-29 00:00:00    ZX           0.2023  Positive  \n",
      "1407324        2011-06-22 00:00:00    ZX          -0.3818  Negative  \n",
      "1407325        2011-06-21 00:00:00    ZX           0.0000   Neutral  \n",
      "1407326        2011-06-21 00:00:00    ZX           0.0000   Neutral  \n",
      "1407327        2011-05-12 00:00:00    ZX           0.0000   Neutral  \n",
      "\n",
      "[1407328 rows x 8 columns]\n"
     ]
    }
   ],
   "source": [
    "# Download required NLTK data (only needs to be done once)\n",
    "nltk.download('vader_lexicon')\n",
    "\n",
    "# Assuming your CSV file is named 'your_file.csv' and has a column named 'text'\n",
    "# Replace 'your_file.csv' with your actual file name and 'text' with the actual column name\n",
    "try:\n",
    "    df = pd.read_csv('Data/raw_analyst_ratings.csv')\n",
    "except FileNotFoundError:\n",
    "    print(\"Error: 'your_file.csv' not found. Please upload the file or provide the correct path.\")\n",
    "    exit()\n",
    "\n",
    "# Initialize the VADER sentiment analyzer\n",
    "analyzer = SentimentIntensityAnalyzer()\n",
    "\n",
    "def analyze_sentiment(text):\n",
    "    scores = analyzer.polarity_scores(text)\n",
    "    return scores['compound']  # Return the compound score\n",
    "\n",
    "# Apply the sentiment analysis function to the 'text' column\n",
    "df['sentiment_score'] = df['headline'].apply(analyze_sentiment)\n",
    "\n",
    "\n",
    "# Classify sentiment based on the compound score\n",
    "def classify_sentiment(score):\n",
    "    if score >= 0.05:\n",
    "        return 'Positive'\n",
    "    elif score <= -0.05:\n",
    "        return 'Negative'\n",
    "    else:\n",
    "        return 'Neutral'\n",
    "\n",
    "\n",
    "df['sentiment'] = df['sentiment_score'].apply(classify_sentiment)\n",
    "\n",
    "print(df)"
   ]
  },
  {
   "cell_type": "code",
   "execution_count": null,
   "id": "3160cef3-4fe0-474a-b3ec-4281fdda280e",
   "metadata": {},
   "outputs": [],
   "source": [
    "# Import necessary libraries\n",
    "import pandas as pd\n",
    "import matplotlib.pyplot as plt\n",
    "import sys\n",
    "import os\n",
    "sys.path.append(os.path.abspath(os.path.join(\"..\", \"scripts\")))\n",
    "from sentiment import process_dataframe\n",
    "from utils import (\n",
    "    read_csv_file,\n",
    ")\n",
    "from plot import (\n",
    "    plot_sentiment_distribution, \n",
    "    plot_average_sentiment_by_publisher, \n",
    "    plot_sentiment_over_time\n",
    ")\n"
   ]
  },
  {
   "cell_type": "code",
   "execution_count": 4,
   "id": "b1fa857a-10d7-49a5-b8ae-44b7883ab0e1",
   "metadata": {},
   "outputs": [
    {
     "name": "stdout",
     "output_type": "stream",
     "text": [
      "Row count:  1407328\n"
     ]
    }
   ],
   "source": [
    "# Load the CSV file into a DataFrame\n",
    "file_path = 'Data/raw_analyst_ratings.csv'  # Replace with your file path\n",
    "data_info = read_csv_file(file_path)\n",
    "df = data_info[\"data\"]\n",
    "print(\"Row count: \",data_info[\"row_count\"])"
   ]
  },
  {
   "cell_type": "code",
   "execution_count": null,
   "id": "f81a88f6-fe0a-4a47-98b5-79dd778d74dd",
   "metadata": {},
   "outputs": [],
   "source": [
    "# Analyze sentiment using VADER\n",
    "print(\"Analyzing sentiment using VADER...\")\n",
    "df = process_dataframe(df, method='vader'\n",
    "print(\"here\")\n",
    "# Display the first few rows of the updated DataFrame\n",
    "print(\"Updated DataFrame with sentiment analysis:\")\n",
    "display(df.head())"
   ]
  },
  {
   "cell_type": "markdown",
   "id": "109e351f-5e67-49f9-bd02-5f1462bc7306",
   "metadata": {},
   "source": [
    "# EDA Techniques"
   ]
  },
  {
   "cell_type": "code",
   "execution_count": null,
   "id": "c564b6e6-ce70-43d7-bd21-a19e90ecab18",
   "metadata": {},
   "outputs": [],
   "source": [
    "# 1. Sentiment Distribution\n",
    "print(\"Sentiment Distribution:\")\n",
    "sentiment_counts = df['sentiment_label'].value_counts()\n",
    "display(sentiment_counts)\n",
    "\n",
    "# Plot sentiment distribution\n",
    "plt.figure(figsize=(8, 5))\n",
    "sentiment_counts.plot(kind='bar', color=['green', 'red', 'blue'])\n",
    "plt.title('Sentiment Distribution')\n",
    "plt.xlabel('Sentiment')\n",
    "plt.ylabel('Count')\n",
    "plt.show()\n",
    "\n",
    "# 2. Average Sentiment Score by Publisher\n",
    "print(\"Average sentiment score by publisher:\")\n",
    "average_sentiment_by_publisher = df.groupby('publisher')['sentiment_score'].mean()\n",
    "display(average_sentiment_by_publisher)\n",
    "\n",
    "# Plot average sentiment by publisher\n",
    "average_sentiment_by_publisher.sort_values().plot(kind='barh', figsize=(10, 6), color='purple')\n",
    "plt.title('Average Sentiment Score by Publisher')\n",
    "plt.xlabel('Sentiment Score')\n",
    "plt.ylabel('Publisher')\n",
    "plt.show()\n",
    "\n",
    "# 3. Sentiment Over Time (if dates are present)\n",
    "if 'date' in df.columns:\n",
    "    print(\"Sentiment Score Over Time:\")\n",
    "    df['date'] = pd.to_datetime(df['date'])  # Ensure date is in datetime format\n",
    "    df.set_index('date', inplace=True)\n",
    "    sentiment_over_time = df.resample('M')['sentiment_score'].mean()\n",
    "    display(sentiment_over_time)\n",
    "\n",
    "    # Plot sentiment over time\n",
    "    plt.figure(figsize=(12, 6))\n",
    "    sentiment_over_time.plot(color='orange')\n",
    "    plt.title('Average Sentiment Score Over Time')\n",
    "    plt.xlabel('Date')\n",
    "    plt.ylabel('Sentiment Score')\n",
    "    plt.show()"
   ]
  },
  {
   "cell_type": "code",
   "execution_count": null,
   "id": "866b0cbc-2793-463c-bac1-d6c54f763bbb",
   "metadata": {},
   "outputs": [],
   "source": [
    "# 1. Sentiment Distribution\n",
    "print(\"Sentiment Distribution:\")\n",
    "plot_sentiment_distribution(df, 'sentiment_label')"
   ]
  },
  {
   "cell_type": "code",
   "execution_count": null,
   "id": "1b3712d4-78e3-435a-a8ed-898a6d4dd54b",
   "metadata": {},
   "outputs": [],
   "source": [
    "# 2. Average Sentiment Score by Publisher\n",
    "print(\"Average sentiment score by publisher:\")\n",
    "plot_average_sentiment_by_publisher(df, 'publisher', 'sentiment_score')"
   ]
  },
  {
   "cell_type": "code",
   "execution_count": null,
   "id": "8ff9cba8-61f9-4d87-85e6-82bdd8ba86f8",
   "metadata": {},
   "outputs": [],
   "source": [
    "# 3. Sentiment Over Time (if dates are present)\n",
    "if 'date' in df.columns:\n",
    "    print(\"Sentiment Score Over Time:\")\n",
    "    plot_sentiment_over_time(df, 'date', 'sentiment_score')\n",
    "    "
   ]
  },
  {
   "cell_type": "code",
   "execution_count": null,
   "id": "5011c64c-daf0-43c8-b248-aabf12d43b7e",
   "metadata": {},
   "outputs": [],
   "source": []
  }
 ],
 "metadata": {
  "kernelspec": {
   "display_name": "Python 3 (ipykernel)",
   "language": "python",
   "name": "python3"
  },
  "language_info": {
   "codemirror_mode": {
    "name": "ipython",
    "version": 3
   },
   "file_extension": ".py",
   "mimetype": "text/x-python",
   "name": "python",
   "nbconvert_exporter": "python",
   "pygments_lexer": "ipython3",
   "version": "3.12.3"
  }
 },
 "nbformat": 4,
 "nbformat_minor": 5
}
